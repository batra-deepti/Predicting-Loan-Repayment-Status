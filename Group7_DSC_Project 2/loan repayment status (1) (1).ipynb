{
 "cells": [
  {
   "cell_type": "markdown",
   "metadata": {},
   "source": [
    "#   PREDICTING LOAN REPAYMENT STATUS"
   ]
  },
  {
   "cell_type": "markdown",
   "metadata": {},
   "source": [
    "**While giving loans to people, banks have to check credit score and determine whether the person would be able to repay the amount or it would be a bad debt to the bank. The idea is to  determine whether the customer would be able to pay back to the bank or not based upon set of attributes, so Banks can issue loan according to probabilities that loan can be repaid**"
   ]
  },
  {
   "cell_type": "markdown",
   "metadata": {},
   "source": [
    "### About the Dataset\n",
    "Lending Club is a peer to peer lending company based in the United States, in which investors provide funds for potential borrowers and investors earn a profit depending on the risk they take (the borrowers credit score). Lending Club provides the \"bridge\" between investors and borrowers.  \n",
    "We have selected this data set by creating an account on their site, and downloading the publically available dataset"
   ]
  },
  {
   "cell_type": "code",
   "execution_count": 1,
   "metadata": {},
   "outputs": [
    {
     "name": "stderr",
     "output_type": "stream",
     "text": [
      "Using TensorFlow backend.\n"
     ]
    }
   ],
   "source": [
    "import pandas as pd\n",
    "import numpy as np\n",
    "import matplotlib.pyplot as plt\n",
    "import seaborn as sns\n",
    "%matplotlib inline\n",
    "from sklearn.decomposition import PCA\n",
    "from sklearn.preprocessing import LabelEncoder\n",
    "import warnings\n",
    "from sklearn.linear_model import LogisticRegressionCV\n",
    "from sklearn.svm import SVC\n",
    "from sklearn.ensemble import RandomForestClassifier, ExtraTreesClassifier, GradientBoostingClassifier\n",
    "from imblearn.over_sampling import SMOTE, RandomOverSampler\n",
    "from sklearn.model_selection import train_test_split\n",
    "from sklearn.metrics import accuracy_score, recall_score, confusion_matrix, roc_auc_score, cohen_kappa_score, matthews_corrcoef\n",
    "from sklearn.preprocessing import OneHotEncoder\n",
    "warnings.filterwarnings(\"ignore\")"
   ]
  },
  {
   "cell_type": "markdown",
   "metadata": {},
   "source": [
    "### Data Loading and checking Shape"
   ]
  },
  {
   "cell_type": "code",
   "execution_count": 2,
   "metadata": {
    "scrolled": true
   },
   "outputs": [
    {
     "name": "stdout",
     "output_type": "stream",
     "text": [
      "DATA SHAPE:  (9578, 14)\n",
      "DATA TYPES:\n",
      "credit.policy          int64\n",
      "purpose               object\n",
      "int.rate             float64\n",
      "installment          float64\n",
      "log.annual.inc       float64\n",
      "dti                  float64\n",
      "fico                   int64\n",
      "days.with.cr.line    float64\n",
      "revol.bal              int64\n",
      "revol.util           float64\n",
      "inq.last.6mths       float64\n",
      "delinq.2yrs          float64\n",
      "pub.rec              float64\n",
      "not.fully.paid         int64\n",
      "dtype: object\n"
     ]
    }
   ],
   "source": [
    "loans = pd.read_csv(\"loans.csv\")\n",
    "print(\"DATA SHAPE: \",loans.shape)\n",
    "print(\"DATA TYPES:\")\n",
    "print(loans.dtypes)"
   ]
  },
  {
   "cell_type": "code",
   "execution_count": 3,
   "metadata": {},
   "outputs": [
    {
     "data": {
      "text/html": [
       "<div>\n",
       "<style scoped>\n",
       "    .dataframe tbody tr th:only-of-type {\n",
       "        vertical-align: middle;\n",
       "    }\n",
       "\n",
       "    .dataframe tbody tr th {\n",
       "        vertical-align: top;\n",
       "    }\n",
       "\n",
       "    .dataframe thead th {\n",
       "        text-align: right;\n",
       "    }\n",
       "</style>\n",
       "<table border=\"1\" class=\"dataframe\">\n",
       "  <thead>\n",
       "    <tr style=\"text-align: right;\">\n",
       "      <th></th>\n",
       "      <th>credit.policy</th>\n",
       "      <th>purpose</th>\n",
       "      <th>int.rate</th>\n",
       "      <th>installment</th>\n",
       "      <th>log.annual.inc</th>\n",
       "      <th>dti</th>\n",
       "      <th>fico</th>\n",
       "      <th>days.with.cr.line</th>\n",
       "      <th>revol.bal</th>\n",
       "      <th>revol.util</th>\n",
       "      <th>inq.last.6mths</th>\n",
       "      <th>delinq.2yrs</th>\n",
       "      <th>pub.rec</th>\n",
       "      <th>not.fully.paid</th>\n",
       "    </tr>\n",
       "  </thead>\n",
       "  <tbody>\n",
       "    <tr>\n",
       "      <th>0</th>\n",
       "      <td>1</td>\n",
       "      <td>debt_consolidation</td>\n",
       "      <td>0.1189</td>\n",
       "      <td>829.10</td>\n",
       "      <td>11.350407</td>\n",
       "      <td>19.48</td>\n",
       "      <td>737</td>\n",
       "      <td>5639.958333</td>\n",
       "      <td>28854</td>\n",
       "      <td>52.1</td>\n",
       "      <td>0.0</td>\n",
       "      <td>0.0</td>\n",
       "      <td>0.0</td>\n",
       "      <td>0</td>\n",
       "    </tr>\n",
       "    <tr>\n",
       "      <th>1</th>\n",
       "      <td>1</td>\n",
       "      <td>credit_card</td>\n",
       "      <td>0.1071</td>\n",
       "      <td>228.22</td>\n",
       "      <td>11.082143</td>\n",
       "      <td>14.29</td>\n",
       "      <td>707</td>\n",
       "      <td>2760.000000</td>\n",
       "      <td>33623</td>\n",
       "      <td>76.7</td>\n",
       "      <td>0.0</td>\n",
       "      <td>0.0</td>\n",
       "      <td>0.0</td>\n",
       "      <td>0</td>\n",
       "    </tr>\n",
       "    <tr>\n",
       "      <th>2</th>\n",
       "      <td>1</td>\n",
       "      <td>debt_consolidation</td>\n",
       "      <td>0.1357</td>\n",
       "      <td>366.86</td>\n",
       "      <td>10.373491</td>\n",
       "      <td>11.63</td>\n",
       "      <td>682</td>\n",
       "      <td>4710.000000</td>\n",
       "      <td>3511</td>\n",
       "      <td>25.6</td>\n",
       "      <td>1.0</td>\n",
       "      <td>0.0</td>\n",
       "      <td>0.0</td>\n",
       "      <td>0</td>\n",
       "    </tr>\n",
       "    <tr>\n",
       "      <th>3</th>\n",
       "      <td>1</td>\n",
       "      <td>debt_consolidation</td>\n",
       "      <td>0.1008</td>\n",
       "      <td>162.34</td>\n",
       "      <td>11.350407</td>\n",
       "      <td>8.10</td>\n",
       "      <td>712</td>\n",
       "      <td>2699.958333</td>\n",
       "      <td>33667</td>\n",
       "      <td>73.2</td>\n",
       "      <td>1.0</td>\n",
       "      <td>0.0</td>\n",
       "      <td>0.0</td>\n",
       "      <td>0</td>\n",
       "    </tr>\n",
       "    <tr>\n",
       "      <th>4</th>\n",
       "      <td>1</td>\n",
       "      <td>credit_card</td>\n",
       "      <td>0.1426</td>\n",
       "      <td>102.92</td>\n",
       "      <td>11.299732</td>\n",
       "      <td>14.97</td>\n",
       "      <td>667</td>\n",
       "      <td>4066.000000</td>\n",
       "      <td>4740</td>\n",
       "      <td>39.5</td>\n",
       "      <td>0.0</td>\n",
       "      <td>1.0</td>\n",
       "      <td>0.0</td>\n",
       "      <td>0</td>\n",
       "    </tr>\n",
       "  </tbody>\n",
       "</table>\n",
       "</div>"
      ],
      "text/plain": [
       "   credit.policy             purpose  int.rate  installment  log.annual.inc  \\\n",
       "0              1  debt_consolidation    0.1189       829.10       11.350407   \n",
       "1              1         credit_card    0.1071       228.22       11.082143   \n",
       "2              1  debt_consolidation    0.1357       366.86       10.373491   \n",
       "3              1  debt_consolidation    0.1008       162.34       11.350407   \n",
       "4              1         credit_card    0.1426       102.92       11.299732   \n",
       "\n",
       "     dti  fico  days.with.cr.line  revol.bal  revol.util  inq.last.6mths  \\\n",
       "0  19.48   737        5639.958333      28854        52.1             0.0   \n",
       "1  14.29   707        2760.000000      33623        76.7             0.0   \n",
       "2  11.63   682        4710.000000       3511        25.6             1.0   \n",
       "3   8.10   712        2699.958333      33667        73.2             1.0   \n",
       "4  14.97   667        4066.000000       4740        39.5             0.0   \n",
       "\n",
       "   delinq.2yrs  pub.rec  not.fully.paid  \n",
       "0          0.0      0.0               0  \n",
       "1          0.0      0.0               0  \n",
       "2          0.0      0.0               0  \n",
       "3          0.0      0.0               0  \n",
       "4          1.0      0.0               0  "
      ]
     },
     "execution_count": 3,
     "metadata": {},
     "output_type": "execute_result"
    }
   ],
   "source": [
    "loans.head()"
   ]
  },
  {
   "cell_type": "markdown",
   "metadata": {},
   "source": [
    "### Null Values Treatment"
   ]
  },
  {
   "cell_type": "code",
   "execution_count": 4,
   "metadata": {},
   "outputs": [
    {
     "name": "stdout",
     "output_type": "stream",
     "text": [
      "Checking target variable data frequency\n",
      "0    8045\n",
      "1    1533\n",
      "Name: not.fully.paid, dtype: int64\n",
      "a)If information of certain borrowers is missing, we have to treat it for null values, and that can be done in many ways: Mode, median , mean, deletion. We have to treat it according to the variable and it's description.\n",
      "Checking total null values in dataset\n",
      "credit.policy         0\n",
      "purpose               0\n",
      "int.rate              0\n",
      "installment           0\n",
      "log.annual.inc        4\n",
      "dti                   0\n",
      "fico                  0\n",
      "days.with.cr.line    29\n",
      "revol.bal             0\n",
      "revol.util           62\n",
      "inq.last.6mths       29\n",
      "delinq.2yrs          29\n",
      "pub.rec              29\n",
      "not.fully.paid        0\n",
      "dtype: int64\n"
     ]
    }
   ],
   "source": [
    "print(\"Checking target variable data frequency\")\n",
    "print(loans[\"not.fully.paid\"].value_counts())\n",
    "print(\"a)If information of certain borrowers is missing, we have to treat it for null values, and that can be done in many ways: Mode, median , mean, deletion. We have to treat it according to the variable and it's description.\")\n",
    "print(\"Checking total null values in dataset\")\n",
    "print(loans.isna().sum())"
   ]
  },
  {
   "cell_type": "code",
   "execution_count": 5,
   "metadata": {
    "scrolled": false
   },
   "outputs": [
    {
     "name": "stdout",
     "output_type": "stream",
     "text": [
      "Column = Public Records\n",
      "Filling null values: Checking data frequency\n",
      "Filling null values with mode:0\n",
      "0.0    8992\n",
      "1.0     531\n",
      "2.0      19\n",
      "3.0       5\n",
      "5.0       1\n",
      "4.0       1\n",
      "Name: pub.rec, dtype: int64\n",
      "Null values removed for this column\n"
     ]
    }
   ],
   "source": [
    "print(\"Column = Public Records\\nFilling null values: Checking data frequency\")\n",
    "print(\"Filling null values with mode:0\")\n",
    "print(loans[\"pub.rec\"].value_counts())\n",
    "loans[\"pub.rec\"].fillna(0, inplace = True)\n",
    "print(\"Null values removed for this column\")"
   ]
  },
  {
   "cell_type": "code",
   "execution_count": 6,
   "metadata": {
    "scrolled": true
   },
   "outputs": [
    {
     "name": "stdout",
     "output_type": "stream",
     "text": [
      "Column = Inquiry last 6 months\n",
      "Filling null values: Checking data frequency\n",
      "Filling null values with mode:0\n",
      "0.0    3634\n",
      "1.0    2459\n",
      "2.0    1381\n",
      "3.0     860\n",
      "4.0     469\n",
      "Name: inq.last.6mths, dtype: int64\n",
      "Null values removed for this column\n"
     ]
    }
   ],
   "source": [
    "print(\"Column = Inquiry last 6 months\\nFilling null values: Checking data frequency\")\n",
    "print(\"Filling null values with mode:0\")\n",
    "print(loans[\"inq.last.6mths\"].value_counts().head())\n",
    "#Filling null values with mode:0\n",
    "loans[\"inq.last.6mths\"].fillna(0, inplace = True)\n",
    "print(\"Null values removed for this column\")"
   ]
  },
  {
   "cell_type": "code",
   "execution_count": 7,
   "metadata": {},
   "outputs": [
    {
     "name": "stdout",
     "output_type": "stream",
     "text": [
      "Column = Log annual income \n",
      "Filling null values: Checking data description\n",
      "Filling null values with mean : 10.93\n",
      "count    9574.000000\n",
      "mean       10.931874\n",
      "std         0.614736\n",
      "min         7.547502\n",
      "25%        10.558414\n",
      "50%        10.927987\n",
      "75%        11.289832\n",
      "max        14.528354\n",
      "Name: log.annual.inc, dtype: float64\n",
      "Null values removed for this column\n"
     ]
    }
   ],
   "source": [
    "print(\"Column = Log annual income \\nFilling null values: Checking data description\")\n",
    "print(\"Filling null values with mean : 10.93\")\n",
    "print(loans[\"log.annual.inc\"].describe())\n",
    "loans[\"log.annual.inc\"].fillna(loans[\"log.annual.inc\"].mean(), inplace = True)\n",
    "print(\"Null values removed for this column\")"
   ]
  },
  {
   "cell_type": "code",
   "execution_count": 8,
   "metadata": {
    "scrolled": true
   },
   "outputs": [
    {
     "name": "stdout",
     "output_type": "stream",
     "text": [
      "Column = Delinquency 2 years\n",
      "Filling null values: Checking data frequency\n",
      "Filling null values with mode:0\n",
      "0.0     8433\n",
      "1.0      828\n",
      "2.0      192\n",
      "3.0       65\n",
      "4.0       19\n",
      "5.0        6\n",
      "6.0        2\n",
      "11.0       1\n",
      "13.0       1\n",
      "8.0        1\n",
      "7.0        1\n",
      "Name: delinq.2yrs, dtype: int64\n",
      "Null values removed for this column\n"
     ]
    }
   ],
   "source": [
    "print(\"Column = Delinquency 2 years\\nFilling null values: Checking data frequency\")\n",
    "print(\"Filling null values with mode:0\")\n",
    "print(loans[\"delinq.2yrs\"].value_counts())\n",
    "loans[\"delinq.2yrs\"].fillna(0, inplace = True)\n",
    "print(\"Null values removed for this column\")"
   ]
  },
  {
   "cell_type": "code",
   "execution_count": 9,
   "metadata": {},
   "outputs": [
    {
     "name": "stdout",
     "output_type": "stream",
     "text": [
      "Column = revol.util \n",
      "Filling null values: Checking data description\n",
      "count    9516.000000\n",
      "mean       46.865677\n",
      "std        29.018642\n",
      "min         0.000000\n",
      "25%        22.700000\n",
      "50%        46.400000\n",
      "75%        71.000000\n",
      "max       119.000000\n",
      "Name: revol.util, dtype: float64\n",
      "Checking data frequency\n",
      "0.0     295\n",
      "0.5      24\n",
      "73.7     22\n",
      "0.3      22\n",
      "3.3      21\n",
      "Name: revol.util, dtype: int64\n",
      "Null values removed for this column\n"
     ]
    }
   ],
   "source": [
    "print(\"Column = revol.util \\nFilling null values: Checking data description\")\n",
    "print(loans[\"revol.util\"].describe())\n",
    "print(\"Checking data frequency\")\n",
    "print(loans[\"revol.util\"].value_counts().head())\n",
    "#Filling null values with mode:0\n",
    "loans[\"revol.util\"].fillna(int(loans[\"revol.util\"].mode()[0]), inplace = True)\n",
    "print(\"Null values removed for this column\")"
   ]
  },
  {
   "cell_type": "code",
   "execution_count": 10,
   "metadata": {},
   "outputs": [
    {
     "name": "stdout",
     "output_type": "stream",
     "text": [
      "count     9549.000000\n",
      "mean      4562.026085\n",
      "std       2497.985733\n",
      "min        178.958333\n",
      "25%       2820.000000\n",
      "50%       4139.958333\n",
      "75%       5730.000000\n",
      "max      17639.958330\n",
      "Name: days.with.cr.line, dtype: float64\n",
      "Null value percent for days.with.cr.line:  0.3027771977448319 %\n",
      "Null values removed for this column\n"
     ]
    }
   ],
   "source": [
    "print(loans[\"days.with.cr.line\"].describe())\n",
    "print(\"Null value percent for days.with.cr.line: \", loans[\"days.with.cr.line\"].isna().sum()/len(loans)*100, \"%\")\n",
    "#Very less % (0.3%) of the data points are null, and we can see that neither of mean, mode or median replacement is possible in this case, we will drop these rows \n",
    "loans.dropna(subset=[\"days.with.cr.line\"], inplace = True)\n",
    "print(\"Null values removed for this column\")"
   ]
  },
  {
   "cell_type": "code",
   "execution_count": 11,
   "metadata": {
    "scrolled": true
   },
   "outputs": [
    {
     "name": "stdout",
     "output_type": "stream",
     "text": [
      "credit.policy        0\n",
      "purpose              0\n",
      "int.rate             0\n",
      "installment          0\n",
      "log.annual.inc       0\n",
      "dti                  0\n",
      "fico                 0\n",
      "days.with.cr.line    0\n",
      "revol.bal            0\n",
      "revol.util           0\n",
      "inq.last.6mths       0\n",
      "delinq.2yrs          0\n",
      "pub.rec              0\n",
      "not.fully.paid       0\n",
      "dtype: int64\n",
      "\n",
      "**********Null value treatment complete**********\n"
     ]
    }
   ],
   "source": [
    "print(loans.isna().sum())\n",
    "print(\"\\n**********Null value treatment complete**********\")"
   ]
  },
  {
   "cell_type": "markdown",
   "metadata": {},
   "source": [
    "## DATA VISUALISATION (EDA)"
   ]
  },
  {
   "cell_type": "markdown",
   "metadata": {},
   "source": [
    "### Question 1: What type of loans are not repaid most of the times?"
   ]
  },
  {
   "cell_type": "code",
   "execution_count": 12,
   "metadata": {},
   "outputs": [],
   "source": [
    "pu = list(loans.purpose.unique())\n",
    "not_paid_0 = []\n",
    "for i in pu:\n",
    "    not_paid_0.append(list(loans[loans[\"purpose\"]==i][\"not.fully.paid\"].value_counts())[0]/sum(list(loans[loans[\"purpose\"]==i][\"not.fully.paid\"].value_counts())))"
   ]
  },
  {
   "cell_type": "code",
   "execution_count": 13,
   "metadata": {},
   "outputs": [],
   "source": [
    "not_paid_1 = []\n",
    "for i in range(len(not_paid_0)):\n",
    "    not_paid_1.append(1-not_paid_0[i])"
   ]
  },
  {
   "cell_type": "code",
   "execution_count": 14,
   "metadata": {
    "scrolled": false
   },
   "outputs": [
    {
     "data": {
      "image/png": "[encoded data removed]",
      "text/plain": [
       "<Figure size 1080x504 with 1 Axes>"
      ]
     },
     "metadata": {
      "needs_background": "light"
     },
     "output_type": "display_data"
    }
   ],
   "source": [
    "purp = list(loans.purpose.unique())\n",
    "plt.figure(figsize=(15,7))\n",
    "ax = sns.countplot(x= loans.purpose, hue=loans['not.fully.paid'])\n",
    "ax.set_xticklabels(purp, fontsize=12)\n",
    "plt.show()"
   ]
  },
  {
   "cell_type": "code",
   "execution_count": 15,
   "metadata": {
    "scrolled": false
   },
   "outputs": [
    {
     "data": {
      "image/png": "[encoded data removed]",
      "text/plain": [
       "<Figure size 1080x504 with 1 Axes>"
      ]
     },
     "metadata": {
      "needs_background": "light"
     },
     "output_type": "display_data"
    }
   ],
   "source": [
    "plt.figure(figsize=(15,7))\n",
    "ax = sns.barplot(x = purp, y = not_paid_1)\n",
    "plt.ylabel(\"Probability of non repyament of loan\")\n",
    "plt.xlabel(\"LOAN PURPOSE\")\n",
    "plt.title(\"Probability of Non-Pepayment by purpose of loan\")\n",
    "plt.show()"
   ]
  },
  {
   "cell_type": "markdown",
   "metadata": {},
   "source": [
    "Most Unpaid loans come from Small Businesses, then education loana, then home improvement."
   ]
  },
  {
   "cell_type": "markdown",
   "metadata": {},
   "source": [
    "### Question 2: How does interest rate vary with Loan Repayment Status?"
   ]
  },
  {
   "cell_type": "code",
   "execution_count": 16,
   "metadata": {
    "scrolled": false
   },
   "outputs": [
    {
     "data": {
      "image/png": "[encoded data removed]",
      "text/plain": [
       "<Figure size 1080x504 with 1 Axes>"
      ]
     },
     "metadata": {
      "needs_background": "light"
     },
     "output_type": "display_data"
    }
   ],
   "source": [
    "plt.figure(figsize=(15,7))\n",
    "good = loans.loc[loans[\"not.fully.paid\"] == 0, 'int.rate']\n",
    "bad = loans.loc[loans[\"not.fully.paid\"] == 1, 'int.rate']\n",
    "sns.distplot(good, label='Good loans',hist=False)\n",
    "ax = sns.distplot(bad, label='Bad loans', hist=False)\n",
    "ax.legend()\n",
    "plt.show()"
   ]
  },
  {
   "cell_type": "markdown",
   "metadata": {},
   "source": [
    "For good loans, we can see that data is skewed towards the left (lower interest rate) and for bad loans, data is skewed to the right (higher interest rates), which shows that interest rate is an important parameter for determining whether a loan will be repaid or not"
   ]
  },
  {
   "cell_type": "markdown",
   "metadata": {},
   "source": [
    "### Label Encoding"
   ]
  },
  {
   "cell_type": "code",
   "execution_count": 17,
   "metadata": {},
   "outputs": [
    {
     "name": "stdout",
     "output_type": "stream",
     "text": [
      "Label Encoding Column 'Purpose'\n",
      "Oversampling data to make balanced label dataset using SMOTE oversampling******\n",
      "Splitting data into training and testing: ratio = 80:20****\n"
     ]
    }
   ],
   "source": [
    "print(\"Label Encoding Column 'Purpose'\")\n",
    "le =LabelEncoder()\n",
    "loans.purpose = le.fit_transform(loans.purpose)\n",
    "x = loans[loans.columns[~loans.columns.isin(['not.fully.paid'])]]\n",
    "y = loans[loans.columns[loans.columns.isin(['not.fully.paid'])]]\n",
    "print(\"Oversampling data to make balanced label dataset using SMOTE oversampling******\")\n",
    "sm = SMOTE()\n",
    "x, y = sm.fit_resample(x,y)\n",
    "print(\"Splitting data into training and testing: ratio = 80:20****\")\n",
    "x_train, x_test, y_train, y_test = train_test_split(x,y, test_size = 0.2)"
   ]
  },
  {
   "cell_type": "markdown",
   "metadata": {},
   "source": [
    "### Evaluation Metrics"
   ]
  },
  {
   "cell_type": "code",
   "execution_count": 18,
   "metadata": {},
   "outputs": [],
   "source": [
    "#metrics evaluator function\n",
    "def model_performance(y_test, y_pred):\n",
    "    print(\"**********TESTING MODEL USING METRICS************\")\n",
    "    tn, fp, fn, tp = confusion_matrix(y_test, y_pred).ravel()\n",
    "    print(\"Accuracy: \", np.round(accuracy_score(y_test, y_pred),3)*100)\n",
    "    print(\"Sensitivity: \", np.round(recall_score(y_test, y_pred),3)*100)\n",
    "    print(\"Specificity: \", np.round(tn/(tn+fp),3)*100)\n",
    "    print(\"ROC AUC: \", np.round(roc_auc_score(y_test, y_pred),3)*100)\n",
    "    print(\"Kappa Score: \", np.round(cohen_kappa_score(y_test, y_pred),3))\n",
    "    print(\"Mathews Correlation Coeff\", np.round(matthews_corrcoef(y_test, y_pred),3))"
   ]
  },
  {
   "cell_type": "markdown",
   "metadata": {},
   "source": [
    "#### MODELS"
   ]
  },
  {
   "cell_type": "markdown",
   "metadata": {},
   "source": [
    "Random Forest"
   ]
  },
  {
   "cell_type": "code",
   "execution_count": 20,
   "metadata": {
    "scrolled": true
   },
   "outputs": [
    {
     "name": "stdout",
     "output_type": "stream",
     "text": [
      "Data training: Random Forest Classifier\n",
      "Training Complete\n",
      "**********TESTING MODEL USING METRICS************\n",
      "Accuracy:  90.60000000000001\n",
      "Sensitivity:  85.0\n",
      "Specificity:  96.0\n",
      "ROC AUC:  90.5\n",
      "Kappa Score:  0.812\n",
      "Mathews Correlation Coeff 0.817\n",
      "None \n",
      "\n"
     ]
    }
   ],
   "source": [
    "#RANDOM FOREST CLASSIFIER with bootstrapping\n",
    "print(\"Data training: Random Forest Classifier\")\n",
    "rf = RandomForestClassifier(n_estimators=600,bootstrap=True, n_jobs= -1)\n",
    "rf.fit(x_train, y_train)\n",
    "y_pred  = rf.predict(x_test)\n",
    "print(\"Training Complete\")\n",
    "print(model_performance(y_test, y_pred), \"\\n\")"
   ]
  },
  {
   "cell_type": "markdown",
   "metadata": {},
   "source": [
    "Extra Tree Classifier"
   ]
  },
  {
   "cell_type": "code",
   "execution_count": 21,
   "metadata": {
    "scrolled": true
   },
   "outputs": [
    {
     "name": "stdout",
     "output_type": "stream",
     "text": [
      "Data training: Extra Trees Classifier\n",
      "Training Complete\n",
      "**********TESTING MODEL USING METRICS************\n",
      "Accuracy:  90.9\n",
      "Sensitivity:  87.8\n",
      "Specificity:  93.8\n",
      "ROC AUC:  90.8\n",
      "Kappa Score:  0.817\n",
      "Mathews Correlation Coeff 0.818\n",
      "None \n",
      "\n"
     ]
    }
   ],
   "source": [
    "#EXTRA TREE CLASSIFIER with bootstrapping\n",
    "print(\"Data training: Extra Trees Classifier\")\n",
    "etc = ExtraTreesClassifier(n_estimators=600,bootstrap=True)\n",
    "etc.fit(x_train, y_train)\n",
    "y_pred  = etc.predict(x_test)\n",
    "print(\"Training Complete\")\n",
    "print(model_performance(y_test, y_pred), \"\\n\")"
   ]
  },
  {
   "cell_type": "code",
   "execution_count": 22,
   "metadata": {},
   "outputs": [],
   "source": [
    "etc?"
   ]
  },
  {
   "cell_type": "markdown",
   "metadata": {},
   "source": [
    "## What is the best suited evaluating metrics for this dataset? \n",
    "For repayment dectection, we have to have highly sensitive data, since we have to decrease the false negatives more than false postives: i.e.: No repayment calls not detected wrongly are more costly than non correct repayment calls wrongly detected.  \n",
    "Accuracy is not an accurate predictor, since data is highly imbalanced, even if the model is bad, it will predict 0 more easily and will have high accuracy..  \n",
    "Cohen's kappa and Mathews correlation both are good metrics. Mathew's correlation tells how good a binary classifier is. Our score (0.8) is a good score"
   ]
  },
  {
   "cell_type": "markdown",
   "metadata": {},
   "source": [
    "### Question 3: What are the most important Factors that contribue to Loan repayment"
   ]
  },
  {
   "cell_type": "code",
   "execution_count": 23,
   "metadata": {
    "scrolled": false
   },
   "outputs": [
    {
     "name": "stdout",
     "output_type": "stream",
     "text": [
      "c)What 5 factors affect loan repayment the most?\n",
      "5 most important features are:  inq.last.6mths, credit.policy, purpose, int.rate, fico\n"
     ]
    },
    {
     "data": {
      "image/png": "[encoded data removed]",
      "text/plain": [
       "<Figure size 1440x720 with 1 Axes>"
      ]
     },
     "metadata": {
      "needs_background": "light"
     },
     "output_type": "display_data"
    }
   ],
   "source": [
    "print(\"c)What 5 factors affect loan repayment the most?\")\n",
    "#****FEATURE IMPORTANCE****\n",
    "#storing indexes of sorted array of feature importance\n",
    "index = np.argsort(rf.feature_importances_)[::-1]\n",
    "#sorting array according to increasing feature importance\n",
    "features = sorted(rf.feature_importances_)[::-1]\n",
    "cols = list(loans.columns)\n",
    "cols.remove(\"not.fully.paid\")\n",
    "col_order = [cols[i] for i in index]\n",
    "print(\"5 most important features are: \", \", \".join(col_order[:5]))\n",
    "plt.figure(figsize=(20,10))\n",
    "sns.barplot(col_order, features)\n",
    "plt.title(\"FEATURE IMPORTANCE\")\n",
    "plt.show()"
   ]
  },
  {
   "cell_type": "markdown",
   "metadata": {},
   "source": [
    "### Question 4: 5 Best and 5 worst borrowers from the data"
   ]
  },
  {
   "cell_type": "code",
   "execution_count": 24,
   "metadata": {},
   "outputs": [
    {
     "name": "stdout",
     "output_type": "stream",
     "text": [
      "b)Identify 5 best borrowers that will repay the entire amount. \n",
      "From our given dataset, we see rows with these 5 indexes with highest probability of repyaing the amount [ 957 1078 1736  536 1598] with probabilities:  [1.0, 1.0, 1.0, 1.0, 1.0] \n",
      "\n",
      "From our given dataset, we see rows with these 5 indexes with highest probability of not repyaing the amount [373 575 598 535 173] with probabilities:  [0.9416666666666667, 0.9316666666666666, 0.9083333333333333, 0.9083333333333333, 0.9083333333333333]\n"
     ]
    }
   ],
   "source": [
    "print(\"b)Identify 5 best borrowers that will repay the entire amount. \")\n",
    "#Highest probability of repaying the amount\n",
    "x = loans[loans.columns[~loans.columns.isin(['not.fully.paid'])]]\n",
    "y = loans[loans.columns[loans.columns.isin(['not.fully.paid'])]]\n",
    "x_train, x_test, y_train, y_test = train_test_split(x,y, test_size = 0.2)\n",
    "probs = rf.predict_proba(x_test)\n",
    "high_best = []\n",
    "high_worst = []\n",
    "for i in range(len(probs)):\n",
    "    high_best.append(probs[i][0])\n",
    "    high_worst.append(probs[i][1])\n",
    "index_best = np.argsort(high_best)[::-1]\n",
    "high_best = sorted(high_best)[::-1]\n",
    "index_worst = np.argsort(high_worst)[::-1]\n",
    "high_worst = sorted(high_worst)[::-1]\n",
    "print(\"From our given dataset, we see rows with these 5 indexes with highest probability of repyaing the amount\",  index_best[:5], \"with probabilities: \", high_best[:5],\"\\n\")\n",
    "print(\"From our given dataset, we see rows with these 5 indexes with highest probability of not repyaing the amount\",  index_worst[:5], \"with probabilities: \", high_worst[:5])\n"
   ]
  },
  {
   "cell_type": "markdown",
   "metadata": {},
   "source": [
    "### Question 5: How FICO Score influences Interest Rate?"
   ]
  },
  {
   "cell_type": "markdown",
   "metadata": {},
   "source": [
    "FICO score is the credit score a person has. This score used by many lenders, and often range from 300 to 850. A good credit score is considered over 650. We can see that loans are granted to customers with SCORE >650. Higher the FICO Score, lower the interest rate."
   ]
  },
  {
   "cell_type": "code",
   "execution_count": 25,
   "metadata": {},
   "outputs": [
    {
     "name": "stdout",
     "output_type": "stream",
     "text": [
      "Correlation:  -0.7150089610860461\n"
     ]
    },
    {
     "data": {
      "image/png": "[encoded data removed]",
      "text/plain": [
       "<Figure size 360x360 with 1 Axes>"
      ]
     },
     "metadata": {
      "needs_background": "light"
     },
     "output_type": "display_data"
    }
   ],
   "source": [
    "plt.figure(figsize=(5,5))\n",
    "plt.scatter( loans[\"fico\"], loans[\"int.rate\"], color = 'purple')\n",
    "plt.xlabel(\"FICO SCORE\")\n",
    "plt.ylabel(\"Interest Rate\")\n",
    "plt.title(\"How FICO Score influences Interest Rate?\")\n",
    "print(\"Correlation: \",np.corrcoef(loans[\"fico\"], loans[\"int.rate\"])[0][1])\n",
    "plt.show()"
   ]
  },
  {
   "cell_type": "markdown",
   "metadata": {},
   "source": [
    "### How all the variables are associated with our target variable?"
   ]
  },
  {
   "cell_type": "code",
   "execution_count": 26,
   "metadata": {},
   "outputs": [
    {
     "data": {
      "image/png": "[encoded data removed]",
      "text/plain": [
       "<Figure size 720x720 with 2 Axes>"
      ]
     },
     "metadata": {
      "needs_background": "light"
     },
     "output_type": "display_data"
    }
   ],
   "source": [
    "fig, ax = plt.subplots(figsize=(10,10)) \n",
    "corr = loans.corr()\n",
    "\n",
    "# Generate a mask for the upper triangle\n",
    "mask = np.zeros_like(corr, dtype=np.bool)\n",
    "mask[np.tril_indices_from(mask)] = True\n",
    "\n",
    "# Generate a custom diverging colormap\n",
    "cmap = sns.diverging_palette(220, 10, as_cmap=True)\n",
    "\n",
    "sns.heatmap(corr, cmap=cmap,linewidths=1, vmin=-1, vmax=1, square=True, cbar=True, center=0, ax=ax, mask=mask)\n",
    "plt.show()"
   ]
  },
  {
   "cell_type": "code",
   "execution_count": null,
   "metadata": {},
   "outputs": [],
   "source": []
  }
 ],
 "metadata": {
  "kernelspec": {
   "display_name": "Python 3",
   "language": "python",
   "name": "python3"
  },
  "language_info": {
   "codemirror_mode": {
    "name": "ipython",
    "version": 3
   },
   "file_extension": ".py",
   "mimetype": "text/x-python",
   "name": "python",
   "nbconvert_exporter": "python",
   "pygments_lexer": "ipython3",
   "version": "3.7.3"
  }
 },
 "nbformat": 4,
 "nbformat_minor": 2
}
